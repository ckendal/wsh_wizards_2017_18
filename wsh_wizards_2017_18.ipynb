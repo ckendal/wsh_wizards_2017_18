{
 "cells": [
  {
   "cell_type": "markdown",
   "metadata": {},
   "source": [
    "# Data Analysis: 2017-2018 Washington Wizards\n",
    "March 7, 2018"
   ]
  },
  {
   "cell_type": "markdown",
   "metadata": {},
   "source": [
    "* The objective of this analysis is to quantitatively compare the performance of the Washington Wizards this season with, and without their star player John Wall.\n",
    "\n",
    "* All data for this project comes from Basketball Reference: https://www.basketball-reference.com/"
   ]
  },
  {
   "cell_type": "code",
   "execution_count": 1,
   "metadata": {},
   "outputs": [],
   "source": [
    "# Data analysis packages\n",
    "import pandas as pd\n",
    "\n",
    "# Package for data visualization\n",
    "import matplotlib.pyplot as plt"
   ]
  },
  {
   "cell_type": "code",
   "execution_count": 2,
   "metadata": {},
   "outputs": [],
   "source": [
    "# The raw data set has more columns than we need, let's narrow down the data to import\n",
    "col_set1 = ['G','Date','Home/Away','Opponent','WizResult','Result','WizPts','OppPts','JW_Active']"
   ]
  },
  {
   "cell_type": "code",
   "execution_count": 3,
   "metadata": {
    "collapsed": true
   },
   "outputs": [],
   "source": [
    "season_to_date = pd.read_csv('season_data_030718.csv', sep=',',index_col=0,\n",
    "                             usecols = col_set1)\n",
    "\n",
    "# Remove all rows with null values representing games that have not yet been played this season.\n",
    "season_to_date = season_to_date.dropna()"
   ]
  },
  {
   "cell_type": "code",
   "execution_count": 4,
   "metadata": {},
   "outputs": [
    {
     "data": {
      "text/html": [
       "<div>\n",
       "<style>\n",
       "    .dataframe thead tr:only-child th {\n",
       "        text-align: right;\n",
       "    }\n",
       "\n",
       "    .dataframe thead th {\n",
       "        text-align: left;\n",
       "    }\n",
       "\n",
       "    .dataframe tbody tr th {\n",
       "        vertical-align: top;\n",
       "    }\n",
       "</style>\n",
       "<table border=\"1\" class=\"dataframe\">\n",
       "  <thead>\n",
       "    <tr style=\"text-align: right;\">\n",
       "      <th></th>\n",
       "      <th>Date</th>\n",
       "      <th>Home/Away</th>\n",
       "      <th>Opponent</th>\n",
       "      <th>WizResult</th>\n",
       "      <th>Result</th>\n",
       "      <th>WizPts</th>\n",
       "      <th>OppPts</th>\n",
       "      <th>JW_Active</th>\n",
       "    </tr>\n",
       "    <tr>\n",
       "      <th>G</th>\n",
       "      <th></th>\n",
       "      <th></th>\n",
       "      <th></th>\n",
       "      <th></th>\n",
       "      <th></th>\n",
       "      <th></th>\n",
       "      <th></th>\n",
       "      <th></th>\n",
       "    </tr>\n",
       "  </thead>\n",
       "  <tbody>\n",
       "    <tr>\n",
       "      <th>1.0</th>\n",
       "      <td>Wed Oct 18 2017</td>\n",
       "      <td>H</td>\n",
       "      <td>Philadelphia 76ers</td>\n",
       "      <td>W</td>\n",
       "      <td>1.0</td>\n",
       "      <td>120.0</td>\n",
       "      <td>115.0</td>\n",
       "      <td>Y</td>\n",
       "    </tr>\n",
       "    <tr>\n",
       "      <th>2.0</th>\n",
       "      <td>Fri Oct 20 2017</td>\n",
       "      <td>H</td>\n",
       "      <td>Detroit Pistons</td>\n",
       "      <td>W</td>\n",
       "      <td>1.0</td>\n",
       "      <td>115.0</td>\n",
       "      <td>111.0</td>\n",
       "      <td>Y</td>\n",
       "    </tr>\n",
       "    <tr>\n",
       "      <th>3.0</th>\n",
       "      <td>Mon Oct 23 2017</td>\n",
       "      <td>A</td>\n",
       "      <td>Denver Nuggets</td>\n",
       "      <td>W</td>\n",
       "      <td>1.0</td>\n",
       "      <td>109.0</td>\n",
       "      <td>104.0</td>\n",
       "      <td>Y</td>\n",
       "    </tr>\n",
       "    <tr>\n",
       "      <th>4.0</th>\n",
       "      <td>Wed Oct 25 2017</td>\n",
       "      <td>A</td>\n",
       "      <td>Los Angeles Lakers</td>\n",
       "      <td>L</td>\n",
       "      <td>0.0</td>\n",
       "      <td>99.0</td>\n",
       "      <td>102.0</td>\n",
       "      <td>Y</td>\n",
       "    </tr>\n",
       "    <tr>\n",
       "      <th>5.0</th>\n",
       "      <td>Fri Oct 27 2017</td>\n",
       "      <td>A</td>\n",
       "      <td>Golden State Warriors</td>\n",
       "      <td>L</td>\n",
       "      <td>0.0</td>\n",
       "      <td>117.0</td>\n",
       "      <td>120.0</td>\n",
       "      <td>Y</td>\n",
       "    </tr>\n",
       "  </tbody>\n",
       "</table>\n",
       "</div>"
      ],
      "text/plain": [
       "                Date Home/Away               Opponent WizResult  Result  \\\n",
       "G                                                                         \n",
       "1.0  Wed Oct 18 2017         H     Philadelphia 76ers         W     1.0   \n",
       "2.0  Fri Oct 20 2017         H        Detroit Pistons         W     1.0   \n",
       "3.0  Mon Oct 23 2017         A         Denver Nuggets         W     1.0   \n",
       "4.0  Wed Oct 25 2017         A     Los Angeles Lakers         L     0.0   \n",
       "5.0  Fri Oct 27 2017         A  Golden State Warriors         L     0.0   \n",
       "\n",
       "     WizPts  OppPts JW_Active  \n",
       "G                              \n",
       "1.0   120.0   115.0         Y  \n",
       "2.0   115.0   111.0         Y  \n",
       "3.0   109.0   104.0         Y  \n",
       "4.0    99.0   102.0         Y  \n",
       "5.0   117.0   120.0         Y  "
      ]
     },
     "execution_count": 4,
     "metadata": {},
     "output_type": "execute_result"
    }
   ],
   "source": [
    "season_to_date.head()"
   ]
  },
  {
   "cell_type": "markdown",
   "metadata": {},
   "source": [
    "- Each row contains data for a particular game of the season.\n",
    "- The index column **G** indicates how far into the regular season each game is. This can hold values between 1 and 82.\n",
    "- Data in **Result** are wins and losses coded as either 1 for a win, or 0 for a loss. For any subset of the season, the mean of this column gives us the Win % for that subset.\n",
    "- The **JW_Active** column indicates games in which John Wall was on the active roster. (i.e. games played)"
   ]
  },
  {
   "cell_type": "code",
   "execution_count": 5,
   "metadata": {},
   "outputs": [
    {
     "data": {
      "text/plain": [
       "Date         Mon Dec 25 2017\n",
       "Home/Away                  A\n",
       "Opponent      Boston Celtics\n",
       "WizResult                  W\n",
       "Result                     1\n",
       "WizPts                   111\n",
       "OppPts                   103\n",
       "JW_Active                  Y\n",
       "Name: 34.0, dtype: object"
      ]
     },
     "execution_count": 5,
     "metadata": {},
     "output_type": "execute_result"
    }
   ],
   "source": [
    "# For example, let's see the info about the 34th game of the season\n",
    "season_to_date.loc[34]"
   ]
  },
  {
   "cell_type": "markdown",
   "metadata": {},
   "source": [
    "That was a good win over the Celtics on Christmas! Now let's dig into the data."
   ]
  },
  {
   "cell_type": "markdown",
   "metadata": {},
   "source": [
    "## 1. Season Summary"
   ]
  },
  {
   "cell_type": "code",
   "execution_count": 6,
   "metadata": {},
   "outputs": [
    {
     "name": "stdout",
     "output_type": "stream",
     "text": [
      "Games:  65\n",
      "Result      0.569\n",
      "WizPts    107.108\n",
      "OppPts    105.538\n",
      "dtype: float64\n"
     ]
    }
   ],
   "source": [
    "# Total number of games played\n",
    "print('Games: ', season_to_date['Result'].count())\n",
    "\n",
    "# Average of numerical values for season so far, rounded to 3 significant digits.\n",
    "print(round(season_to_date.mean(), 3))\n",
    "\n",
    "# Season win % variable\n",
    "WinPct_season = round(season_to_date['Result'].mean(), 3)"
   ]
  },
  {
   "cell_type": "code",
   "execution_count": 7,
   "metadata": {},
   "outputs": [
    {
     "data": {
      "text/plain": [
       "1.6"
      ]
     },
     "execution_count": 7,
     "metadata": {},
     "output_type": "execute_result"
    }
   ],
   "source": [
    "# Points Per Game (PPG) differential\n",
    "PPG_dif_season = round(season_to_date['WizPts'].mean() - season_to_date['OppPts'].mean(), 1)\n",
    "PPG_dif_season"
   ]
  },
  {
   "cell_type": "markdown",
   "metadata": {},
   "source": [
    "For the whole season so far, the Wizards have a win % of **0.569** and have outscored their opponents by approximately **1.6** points per game."
   ]
  },
  {
   "cell_type": "markdown",
   "metadata": {},
   "source": [
    "## 2. Record with John Wall"
   ]
  },
  {
   "cell_type": "code",
   "execution_count": 8,
   "metadata": {},
   "outputs": [
    {
     "name": "stdout",
     "output_type": "stream",
     "text": [
      "Games:  37\n",
      "Result      0.568\n",
      "WizPts    108.324\n",
      "OppPts    106.568\n",
      "dtype: float64\n"
     ]
    }
   ],
   "source": [
    "WithWall = season_to_date[season_to_date[\"JW_Active\"]==\"Y\"]\n",
    "\n",
    "print('Games: ', WithWall['Result'].count())\n",
    "print(round(WithWall.mean(), 3))\n",
    "\n",
    "# Store win % as a variable to use later\n",
    "WinPct_JW = round(WithWall['Result'].mean(), 3)"
   ]
  },
  {
   "cell_type": "code",
   "execution_count": 9,
   "metadata": {},
   "outputs": [
    {
     "data": {
      "text/plain": [
       "1.8"
      ]
     },
     "execution_count": 9,
     "metadata": {},
     "output_type": "execute_result"
    }
   ],
   "source": [
    "# PPG differential\n",
    "PPG_dif_JW = round(WithWall['WizPts'].mean() - WithWall['OppPts'].mean(), 1)\n",
    "PPG_dif_JW"
   ]
  },
  {
   "cell_type": "markdown",
   "metadata": {},
   "source": [
    "In the 37 games Wall has played this season, the team has a win % of **0.568**, and have a **+1.8** points per game differenial."
   ]
  },
  {
   "cell_type": "markdown",
   "metadata": {},
   "source": [
    "## 3. Wizards better without Wall?"
   ]
  },
  {
   "cell_type": "markdown",
   "metadata": {},
   "source": [
    "John Wall has missed other games earlier in the season, but his longest absence of the season started January 27, 2018.\n",
    "The team's winning record since this date has led some to debate whether the Wizards are actually better off without him."
   ]
  },
  {
   "cell_type": "code",
   "execution_count": 10,
   "metadata": {},
   "outputs": [],
   "source": [
    "# Partition the season data into 2 subsets before and after Jan 27, 2018\n",
    "BeforeJan27 = season_to_date.loc[:48]\n",
    "SinceJan27 = season_to_date.loc[49:]"
   ]
  },
  {
   "cell_type": "code",
   "execution_count": 11,
   "metadata": {},
   "outputs": [
    {
     "data": {
      "text/html": [
       "<div>\n",
       "<style>\n",
       "    .dataframe thead tr:only-child th {\n",
       "        text-align: right;\n",
       "    }\n",
       "\n",
       "    .dataframe thead th {\n",
       "        text-align: left;\n",
       "    }\n",
       "\n",
       "    .dataframe tbody tr th {\n",
       "        vertical-align: top;\n",
       "    }\n",
       "</style>\n",
       "<table border=\"1\" class=\"dataframe\">\n",
       "  <thead>\n",
       "    <tr style=\"text-align: right;\">\n",
       "      <th></th>\n",
       "      <th>Date</th>\n",
       "      <th>Home/Away</th>\n",
       "      <th>Opponent</th>\n",
       "      <th>WizResult</th>\n",
       "      <th>Result</th>\n",
       "      <th>WizPts</th>\n",
       "      <th>OppPts</th>\n",
       "      <th>JW_Active</th>\n",
       "    </tr>\n",
       "    <tr>\n",
       "      <th>G</th>\n",
       "      <th></th>\n",
       "      <th></th>\n",
       "      <th></th>\n",
       "      <th></th>\n",
       "      <th></th>\n",
       "      <th></th>\n",
       "      <th></th>\n",
       "      <th></th>\n",
       "    </tr>\n",
       "  </thead>\n",
       "  <tbody>\n",
       "    <tr>\n",
       "      <th>49.0</th>\n",
       "      <td>Sat Jan 27 2018</td>\n",
       "      <td>A</td>\n",
       "      <td>Atlanta Hawks</td>\n",
       "      <td>W</td>\n",
       "      <td>1.0</td>\n",
       "      <td>129.0</td>\n",
       "      <td>104.0</td>\n",
       "      <td>N</td>\n",
       "    </tr>\n",
       "    <tr>\n",
       "      <th>50.0</th>\n",
       "      <td>Tue Jan 30 2018</td>\n",
       "      <td>H</td>\n",
       "      <td>Oklahoma City Thunder</td>\n",
       "      <td>W</td>\n",
       "      <td>1.0</td>\n",
       "      <td>102.0</td>\n",
       "      <td>96.0</td>\n",
       "      <td>N</td>\n",
       "    </tr>\n",
       "    <tr>\n",
       "      <th>51.0</th>\n",
       "      <td>Thu Feb 1 2018</td>\n",
       "      <td>H</td>\n",
       "      <td>Toronto Raptors</td>\n",
       "      <td>W</td>\n",
       "      <td>1.0</td>\n",
       "      <td>122.0</td>\n",
       "      <td>119.0</td>\n",
       "      <td>N</td>\n",
       "    </tr>\n",
       "    <tr>\n",
       "      <th>52.0</th>\n",
       "      <td>Sat Feb 3 2018</td>\n",
       "      <td>A</td>\n",
       "      <td>Orlando Magic</td>\n",
       "      <td>W</td>\n",
       "      <td>1.0</td>\n",
       "      <td>115.0</td>\n",
       "      <td>98.0</td>\n",
       "      <td>N</td>\n",
       "    </tr>\n",
       "    <tr>\n",
       "      <th>53.0</th>\n",
       "      <td>Mon Feb 5 2018</td>\n",
       "      <td>A</td>\n",
       "      <td>Indiana Pacers</td>\n",
       "      <td>W</td>\n",
       "      <td>1.0</td>\n",
       "      <td>111.0</td>\n",
       "      <td>102.0</td>\n",
       "      <td>N</td>\n",
       "    </tr>\n",
       "  </tbody>\n",
       "</table>\n",
       "</div>"
      ],
      "text/plain": [
       "                 Date Home/Away               Opponent WizResult  Result  \\\n",
       "G                                                                          \n",
       "49.0  Sat Jan 27 2018         A          Atlanta Hawks         W     1.0   \n",
       "50.0  Tue Jan 30 2018         H  Oklahoma City Thunder         W     1.0   \n",
       "51.0   Thu Feb 1 2018         H        Toronto Raptors         W     1.0   \n",
       "52.0   Sat Feb 3 2018         A          Orlando Magic         W     1.0   \n",
       "53.0   Mon Feb 5 2018         A         Indiana Pacers         W     1.0   \n",
       "\n",
       "      WizPts  OppPts JW_Active  \n",
       "G                               \n",
       "49.0   129.0   104.0         N  \n",
       "50.0   102.0    96.0         N  \n",
       "51.0   122.0   119.0         N  \n",
       "52.0   115.0    98.0         N  \n",
       "53.0   111.0   102.0         N  "
      ]
     },
     "execution_count": 11,
     "metadata": {},
     "output_type": "execute_result"
    }
   ],
   "source": [
    "SinceJan27.head()"
   ]
  },
  {
   "cell_type": "markdown",
   "metadata": {},
   "source": [
    "The most recent period without Wall began with a 5-game win streak."
   ]
  },
  {
   "cell_type": "code",
   "execution_count": 12,
   "metadata": {},
   "outputs": [
    {
     "name": "stdout",
     "output_type": "stream",
     "text": [
      "Games:  17\n",
      "Result      0.647\n",
      "WizPts    108.412\n",
      "OppPts    105.412\n",
      "dtype: float64\n"
     ]
    }
   ],
   "source": [
    "# Win %\n",
    "print('Games: ', SinceJan27['Result'].count())\n",
    "# Wiz PPG and Opponent PPG\n",
    "print(round(SinceJan27.mean(), 3))"
   ]
  },
  {
   "cell_type": "code",
   "execution_count": 13,
   "metadata": {},
   "outputs": [
    {
     "data": {
      "text/plain": [
       "3.0"
      ]
     },
     "execution_count": 13,
     "metadata": {},
     "output_type": "execute_result"
    }
   ],
   "source": [
    "# PPG differential\n",
    "PPG_dif_SinceJan27 = round(SinceJan27['WizPts'].mean() - SinceJan27['OppPts'].mean(), 1)\n",
    "PPG_dif_SinceJan27"
   ]
  },
  {
   "cell_type": "markdown",
   "metadata": {},
   "source": [
    "Since January 27, the Wizards have a winning % of **0.647** and on average have outscored their opponents by approximately **3 points per game**."
   ]
  },
  {
   "cell_type": "code",
   "execution_count": 14,
   "metadata": {},
   "outputs": [
    {
     "data": {
      "text/plain": [
       "True"
      ]
     },
     "execution_count": 14,
     "metadata": {},
     "output_type": "execute_result"
    }
   ],
   "source": [
    "# Is win % since Jan 27 better than win % with Wall?\n",
    "SinceJan27['Result'].mean() > WithWall['Result'].mean()"
   ]
  },
  {
   "cell_type": "markdown",
   "metadata": {},
   "source": [
    "## 4. Before and After\n",
    "Wall has missed games earlier in the season, but the notion that the team could actually be better *without him* did not occur until recently. Let's compare the most recent games without him vs the games he missed earlier in the season."
   ]
  },
  {
   "cell_type": "code",
   "execution_count": 15,
   "metadata": {},
   "outputs": [],
   "source": [
    "# Games played without Wall earlier in the season.\n",
    "NoWallBeforeJan27 = BeforeJan27[BeforeJan27['JW_Active']=='N']"
   ]
  },
  {
   "cell_type": "code",
   "execution_count": 16,
   "metadata": {},
   "outputs": [
    {
     "name": "stdout",
     "output_type": "stream",
     "text": [
      "Games:  11\n",
      "Result      0.455\n",
      "WizPts    101.000\n",
      "OppPts    102.273\n",
      "dtype: float64\n"
     ]
    }
   ],
   "source": [
    "# Number of games w/o John Wall before January 27\n",
    "print('Games: ', NoWallBeforeJan27['Result'].count())\n",
    "# Win % and PPG stats\n",
    "print(round(NoWallBeforeJan27.mean(), 3))"
   ]
  },
  {
   "cell_type": "code",
   "execution_count": 17,
   "metadata": {},
   "outputs": [
    {
     "data": {
      "text/plain": [
       "-1.3"
      ]
     },
     "execution_count": 17,
     "metadata": {},
     "output_type": "execute_result"
    }
   ],
   "source": [
    "# PPG differential in games w/o Wall before Jan27\n",
    "PPG_dif_preJan27 = round(NoWallBeforeJan27['WizPts'].mean() - NoWallBeforeJan27['OppPts'].mean(), 1)\n",
    "PPG_dif_preJan27"
   ]
  },
  {
   "cell_type": "markdown",
   "metadata": {},
   "source": [
    "In the games John Wall missed earlier this season, the Wizards posted a winning % of **0.455** and were outcored by **1.3 points per game**."
   ]
  },
  {
   "cell_type": "markdown",
   "metadata": {},
   "source": [
    "Let's graph some of these findings."
   ]
  },
  {
   "cell_type": "code",
   "execution_count": 18,
   "metadata": {},
   "outputs": [],
   "source": [
    "# X axis labels to be used for multiple charts\n",
    "x_names = ['With Wall','W/O Before Jan 27', 'W/O After Jan 27']\n",
    "\n",
    "# Variable to store bar heights\n",
    "y_vals = [WithWall['Result'].mean(), NoWallBeforeJan27['Result'].mean(), SinceJan27['Result'].mean()]"
   ]
  },
  {
   "cell_type": "code",
   "execution_count": 19,
   "metadata": {},
   "outputs": [
    {
     "data": {
      "image/png": "[encoded data removed]",
      "text/plain": [
       "<matplotlib.figure.Figure at 0x1197a9518>"
      ]
     },
     "metadata": {},
     "output_type": "display_data"
    }
   ],
   "source": [
    "fig1 = plt.figure()\n",
    "bars1 = plt.bar([1,2,3],y_vals, align='center')\n",
    "bars1[0].set_color('k')\n",
    "bars1[1].set_color('r')\n",
    "bars1[2].set_color('b')\n",
    "plt.xticks([1,2,3], x_names)\n",
    "plt.title('2017-18 Win %')\n",
    "plt.show()"
   ]
  },
  {
   "cell_type": "code",
   "execution_count": 20,
   "metadata": {},
   "outputs": [
    {
     "data": {
      "image/png": "[encoded data removed]",
      "text/plain": [
       "<matplotlib.figure.Figure at 0x11bd319e8>"
      ]
     },
     "metadata": {},
     "output_type": "display_data"
    }
   ],
   "source": [
    "fig2 = plt.figure()\n",
    "bars2 = plt.bar([1,2,3], [PPG_dif_JW, PPG_dif_preJan27, PPG_dif_SinceJan27], align='center')\n",
    "bars2[0].set_color('k')\n",
    "bars2[1].set_color('r')\n",
    "bars2[2].set_color('b')\n",
    "plt.xticks([1,2,3], x_names)\n",
    "plt.title('PPG Differential')\n",
    "plt.show()"
   ]
  },
  {
   "cell_type": "markdown",
   "metadata": {},
   "source": [
    "## 5. Larger sample size"
   ]
  },
  {
   "cell_type": "markdown",
   "metadata": {},
   "source": [
    "* The Wizards *seem* to be better without John Wall in the most recent stretch of games.\n",
    "* Why is this the case?\n",
    "    * Is it because we have a **larger sample size** of games to evaluate?\n",
    "    * Could the team **playing differently** in his absence ** *now* ** than it did earlier?"
   ]
  },
  {
   "cell_type": "code",
   "execution_count": 21,
   "metadata": {},
   "outputs": [],
   "source": [
    "NoWall = season_to_date[season_to_date[\"JW_Active\"]==\"N\"]"
   ]
  },
  {
   "cell_type": "code",
   "execution_count": 22,
   "metadata": {},
   "outputs": [
    {
     "name": "stdout",
     "output_type": "stream",
     "text": [
      "Games:  28\n",
      "Result      0.571\n",
      "WizPts    105.500\n",
      "OppPts    104.179\n",
      "dtype: float64\n"
     ]
    }
   ],
   "source": [
    "print('Games: ', NoWall['Result'].count())\n",
    "print(round(NoWall.mean(), 3))\n",
    "\n",
    "# store win % as a variable\n",
    "WinPct_NoJW_season = round(NoWall['Result'].mean(), 3)"
   ]
  },
  {
   "cell_type": "code",
   "execution_count": 23,
   "metadata": {},
   "outputs": [
    {
     "data": {
      "text/plain": [
       "1.3"
      ]
     },
     "execution_count": 23,
     "metadata": {},
     "output_type": "execute_result"
    }
   ],
   "source": [
    "PPG_dif_NoJW_season = round(NoWall['WizPts'].mean() - NoWall['OppPts'].mean(), 1)\n",
    "PPG_dif_NoJW_season"
   ]
  },
  {
   "cell_type": "markdown",
   "metadata": {},
   "source": [
    "In 28 total games without Wall this season. The team was a win % of **0.571** and a PPG differential of **+1.3**."
   ]
  },
  {
   "cell_type": "markdown",
   "metadata": {},
   "source": [
    "Let's compare win % for the whole season against all games with John Wall, and all games without him."
   ]
  },
  {
   "cell_type": "code",
   "execution_count": 24,
   "metadata": {},
   "outputs": [
    {
     "name": "stdout",
     "output_type": "stream",
     "text": [
      "Season Win %:  0.569\n",
      "Win % w/ Wall:  0.568\n",
      "Win % w/0 Wall:  0.571\n"
     ]
    }
   ],
   "source": [
    "print('Season Win %: ', WinPct_season)\n",
    "print('Win % w/ Wall: ', WinPct_JW)\n",
    "print('Win % w/0 Wall: ', WinPct_NoJW_season)"
   ]
  },
  {
   "cell_type": "markdown",
   "metadata": {},
   "source": [
    "Interesting, over the whole season, the Win % is about the same with and without John Wall.\n",
    "* The team had a losing record in the games John Wall missed before Jan 27.\n",
    "* They now have a winning record in *all* games without him this season due to the recent stretch of games bringing up this average. \n",
    "* Why does the team *now* have a winning record without John Wall in the lineup? "
   ]
  },
  {
   "cell_type": "markdown",
   "metadata": {},
   "source": [
    "## 6. Team Stats\n",
    "What is the team doing differently that may explain their improved win percentage?"
   ]
  },
  {
   "cell_type": "code",
   "execution_count": 25,
   "metadata": {},
   "outputs": [],
   "source": [
    "# Import basic team statistics\n",
    "TeamBasic_without_JW = pd.read_csv('a_BasicTeamStats_without_030718.csv', sep=',', index_col=0)\n",
    "TeamBasic_with_JW = pd.read_csv('a_BasicTeamStats_With_030718.csv', sep=',', index_col=0)\n",
    "\n",
    "# Basic team stats for games w/o Wall\n",
    "BasicStats_no_Wall_early = TeamBasic_without_JW.loc[:48]\n",
    "BasicStats_no_Wall_afterJan27 = TeamBasic_without_JW.loc[49:]\n",
    "\n",
    "# Player basic stats per game\n",
    "player_per_game = pd.read_csv('PlayerPerGame.csv', sep=',', index_col=0)\n",
    "player_per_gm_adv = pd.read_csv('PlayerPerGameAdvanced.csv', sep=',', index_col=0)"
   ]
  },
  {
   "cell_type": "markdown",
   "metadata": {},
   "source": [
    "Let's compare some basic team stats in the games since January 27 against those same stats in the games with John Wall. The difference between these stats is a good place to start.\n",
    ">**(Team stats w/o Wall since Jan 27) - (Team stats w/ Wall this season)**"
   ]
  },
  {
   "cell_type": "code",
   "execution_count": 26,
   "metadata": {},
   "outputs": [
    {
     "data": {
      "text/plain": [
       "FG     0.901431\n",
       "FGA   -0.060413\n",
       "FG%    0.011558\n",
       "3P    -0.017488\n",
       "3PA   -0.329094\n",
       "3P%    0.007075\n",
       "FT    -1.697933\n",
       "FTA   -4.562798\n",
       "FT%    0.099963\n",
       "ORB    0.370429\n",
       "DRB   -0.753577\n",
       "TRB   -0.383148\n",
       "AST    5.030207\n",
       "STL    0.591415\n",
       "BLK   -0.729730\n",
       "TOV   -0.224165\n",
       "PF     0.449921\n",
       "PTS    0.087440\n",
       "dtype: float64"
      ]
     },
     "execution_count": 26,
     "metadata": {},
     "output_type": "execute_result"
    }
   ],
   "source": [
    "# Difference in basic team stats per game\n",
    "Recent_vs_WithJW = BasicStats_no_Wall_afterJan27.mean() - TeamBasic_with_JW.mean()\n",
    "Recent_vs_WithJW"
   ]
  },
  {
   "cell_type": "markdown",
   "metadata": {},
   "source": [
    "Which stats stand out?"
   ]
  },
  {
   "cell_type": "code",
   "execution_count": 27,
   "metadata": {},
   "outputs": [
    {
     "data": {
      "text/plain": [
       "True"
      ]
     },
     "execution_count": 27,
     "metadata": {},
     "output_type": "execute_result"
    }
   ],
   "source": [
    "# It appears that Free Throw Attempts has the largest decrease\n",
    "Recent_vs_WithJW.min() == Recent_vs_WithJW['FTA']"
   ]
  },
  {
   "cell_type": "code",
   "execution_count": 28,
   "metadata": {},
   "outputs": [
    {
     "data": {
      "text/plain": [
       "True"
      ]
     },
     "execution_count": 28,
     "metadata": {},
     "output_type": "execute_result"
    }
   ],
   "source": [
    "# Assists per game appears to have the largest increase\n",
    "Recent_vs_WithJW.max() == Recent_vs_WithJW['AST']"
   ]
  },
  {
   "cell_type": "markdown",
   "metadata": {},
   "source": [
    "While the team has fewer Free Throw Attempts, the PPG has increased. So this drop does not seem to negatively impact the team's scoring so far. The decline in FTA makes sense because John Wall leads the team in FTA."
   ]
  },
  {
   "cell_type": "code",
   "execution_count": 29,
   "metadata": {},
   "outputs": [
    {
     "data": {
      "text/html": [
       "<div>\n",
       "<style>\n",
       "    .dataframe thead tr:only-child th {\n",
       "        text-align: right;\n",
       "    }\n",
       "\n",
       "    .dataframe thead th {\n",
       "        text-align: left;\n",
       "    }\n",
       "\n",
       "    .dataframe tbody tr th {\n",
       "        vertical-align: top;\n",
       "    }\n",
       "</style>\n",
       "<table border=\"1\" class=\"dataframe\">\n",
       "  <thead>\n",
       "    <tr style=\"text-align: right;\">\n",
       "      <th></th>\n",
       "      <th>Player Name</th>\n",
       "      <th>FTA</th>\n",
       "    </tr>\n",
       "    <tr>\n",
       "      <th>Rk</th>\n",
       "      <th></th>\n",
       "      <th></th>\n",
       "    </tr>\n",
       "  </thead>\n",
       "  <tbody>\n",
       "    <tr>\n",
       "      <th>1</th>\n",
       "      <td>John Wall</td>\n",
       "      <td>6.0</td>\n",
       "    </tr>\n",
       "    <tr>\n",
       "      <th>2</th>\n",
       "      <td>Bradley Beal</td>\n",
       "      <td>4.7</td>\n",
       "    </tr>\n",
       "    <tr>\n",
       "      <th>3</th>\n",
       "      <td>Ramon Sessions</td>\n",
       "      <td>4.0</td>\n",
       "    </tr>\n",
       "    <tr>\n",
       "      <th>4</th>\n",
       "      <td>Kelly Oubre</td>\n",
       "      <td>2.7</td>\n",
       "    </tr>\n",
       "    <tr>\n",
       "      <th>5</th>\n",
       "      <td>Marcin Gortat</td>\n",
       "      <td>2.0</td>\n",
       "    </tr>\n",
       "  </tbody>\n",
       "</table>\n",
       "</div>"
      ],
      "text/plain": [
       "       Player Name  FTA\n",
       "Rk                     \n",
       "1        John Wall  6.0\n",
       "2     Bradley Beal  4.7\n",
       "3   Ramon Sessions  4.0\n",
       "4      Kelly Oubre  2.7\n",
       "5    Marcin Gortat  2.0"
      ]
     },
     "execution_count": 29,
     "metadata": {},
     "output_type": "execute_result"
    }
   ],
   "source": [
    "# FTA/gm Team Leaders\n",
    "player_per_game[['Player Name', 'FTA']].sort_values('FTA', ascending=False).head()"
   ]
  },
  {
   "cell_type": "markdown",
   "metadata": {},
   "source": [
    "## 7. \"Everybody eats.\""
   ]
  },
  {
   "cell_type": "markdown",
   "metadata": {},
   "source": [
    "Next, let's look at assists in games with Wall, early season games without Wall, and recent games without him."
   ]
  },
  {
   "cell_type": "code",
   "execution_count": 30,
   "metadata": {},
   "outputs": [],
   "source": [
    "# Assign AST/gm (APG) variables\n",
    "\n",
    "# Team assists per game with John Wall this season\n",
    "APG_w_JW = round(TeamBasic_with_JW['AST'].mean(), 1)\n",
    "\n",
    "# Team assists per game in games w/o Wall earlier (before Jan 27)\n",
    "APG_wo_JW_early = round(BasicStats_no_Wall_early['AST'].mean(), 1)\n",
    "\n",
    "# Team assists per game without Wall in recent games (after Jan 27)\n",
    "APG_wo_JW_recent = round(BasicStats_no_Wall_afterJan27['AST'].mean(), 1)"
   ]
  },
  {
   "cell_type": "code",
   "execution_count": 31,
   "metadata": {},
   "outputs": [
    {
     "data": {
      "text/plain": [
       "7.2"
      ]
     },
     "execution_count": 31,
     "metadata": {},
     "output_type": "execute_result"
    }
   ],
   "source": [
    "# How does AST/gm differ between recent and early season games w/o John Wall?\n",
    "round(APG_wo_JW_recent - APG_wo_JW_early, 1)"
   ]
  },
  {
   "cell_type": "code",
   "execution_count": 32,
   "metadata": {},
   "outputs": [
    {
     "data": {
      "text/plain": [
       "5"
      ]
     },
     "execution_count": 32,
     "metadata": {},
     "output_type": "execute_result"
    }
   ],
   "source": [
    "# Recent vs games with Wall\n",
    "round(APG_wo_JW_recent - APG_w_JW)"
   ]
  },
  {
   "cell_type": "code",
   "execution_count": 33,
   "metadata": {},
   "outputs": [
    {
     "data": {
      "image/png": "[encoded data removed]",
      "text/plain": [
       "<matplotlib.figure.Figure at 0x11be62080>"
      ]
     },
     "metadata": {},
     "output_type": "display_data"
    }
   ],
   "source": [
    "# labels for x-axis\n",
    "x_names2 = ['With Wall ' + str(APG_w_JW),\n",
    "            'W/O Early '+ str(APG_wo_JW_early),\n",
    "            'W/O Recent '+ str(APG_wo_JW_recent)]\n",
    "\n",
    "fig3 = plt.figure()\n",
    "bars3 = plt.bar([1,2,3], [APG_w_JW, APG_wo_JW_early, APG_wo_JW_recent], align='center')\n",
    "bars3[0].set_color('k')\n",
    "bars3[1].set_color('r')\n",
    "bars3[2].set_color('b')\n",
    "plt.xticks([1,2,3], x_names2)\n",
    "plt.title('Team Assists Per Game')\n",
    "plt.show()"
   ]
  },
  {
   "cell_type": "markdown",
   "metadata": {},
   "source": [
    "We can clearly see that the team is moving the ball more now than during any other period of this season.\n",
    "\n",
    "Let's take a look at how Wall impacted assists in the games he played in this season."
   ]
  },
  {
   "cell_type": "code",
   "execution_count": 34,
   "metadata": {},
   "outputs": [
    {
     "name": "stdout",
     "output_type": "stream",
     "text": [
      "Wizards Assist Per Game Leaders\n",
      "         Player Name  AST\n",
      "Rk                       \n",
      "1          John Wall  9.3\n",
      "2       Bradley Beal  4.6\n",
      "10  Tomas Satoransky  3.5\n",
      "14       Tim Frazier  3.5\n",
      "6        Otto Porter  2.1\n"
     ]
    }
   ],
   "source": [
    "print('Wizards Assist Per Game Leaders')\n",
    "print(player_per_game[['Player Name', 'AST']].sort_values('AST', ascending=False).head())"
   ]
  },
  {
   "cell_type": "markdown",
   "metadata": {},
   "source": [
    "We can see that John Wall leads the team in assists per game, but that value does not tell enough about the impact of his assists. Next, we will check out his Assist Percentage, that is the percentage of his teammates' made field goals that his assists account for."
   ]
  },
  {
   "cell_type": "code",
   "execution_count": 35,
   "metadata": {},
   "outputs": [
    {
     "data": {
      "text/html": [
       "<div>\n",
       "<style>\n",
       "    .dataframe thead tr:only-child th {\n",
       "        text-align: right;\n",
       "    }\n",
       "\n",
       "    .dataframe thead th {\n",
       "        text-align: left;\n",
       "    }\n",
       "\n",
       "    .dataframe tbody tr th {\n",
       "        vertical-align: top;\n",
       "    }\n",
       "</style>\n",
       "<table border=\"1\" class=\"dataframe\">\n",
       "  <thead>\n",
       "    <tr style=\"text-align: right;\">\n",
       "      <th></th>\n",
       "      <th>Player Name</th>\n",
       "      <th>AST%</th>\n",
       "    </tr>\n",
       "    <tr>\n",
       "      <th>Rk</th>\n",
       "      <th></th>\n",
       "      <th></th>\n",
       "    </tr>\n",
       "  </thead>\n",
       "  <tbody>\n",
       "    <tr>\n",
       "      <th>6</th>\n",
       "      <td>John Wall</td>\n",
       "      <td>43.0</td>\n",
       "    </tr>\n",
       "    <tr>\n",
       "      <th>11</th>\n",
       "      <td>Tim Frazier</td>\n",
       "      <td>31.3</td>\n",
       "    </tr>\n",
       "    <tr>\n",
       "      <th>7</th>\n",
       "      <td>Tomas Satoransky</td>\n",
       "      <td>24.7</td>\n",
       "    </tr>\n",
       "    <tr>\n",
       "      <th>1</th>\n",
       "      <td>Bradley Beal</td>\n",
       "      <td>21.2</td>\n",
       "    </tr>\n",
       "    <tr>\n",
       "      <th>4</th>\n",
       "      <td>Marcin Gortat</td>\n",
       "      <td>10.3</td>\n",
       "    </tr>\n",
       "  </tbody>\n",
       "</table>\n",
       "</div>"
      ],
      "text/plain": [
       "         Player Name  AST%\n",
       "Rk                        \n",
       "6          John Wall  43.0\n",
       "11       Tim Frazier  31.3\n",
       "7   Tomas Satoransky  24.7\n",
       "1       Bradley Beal  21.2\n",
       "4      Marcin Gortat  10.3"
      ]
     },
     "execution_count": 35,
     "metadata": {},
     "output_type": "execute_result"
    }
   ],
   "source": [
    "player_per_gm_adv[['Player Name', 'AST%']].sort_values('AST%', ascending=False).head()"
   ]
  },
  {
   "cell_type": "markdown",
   "metadata": {},
   "source": [
    "John Wall leads the team in Assist Percentage at 43%."
   ]
  },
  {
   "cell_type": "code",
   "execution_count": 36,
   "metadata": {},
   "outputs": [
    {
     "data": {
      "image/png": "[encoded data removed]",
      "text/plain": [
       "<matplotlib.figure.Figure at 0x11bfb7240>"
      ]
     },
     "metadata": {},
     "output_type": "display_data"
    }
   ],
   "source": [
    "# Pie chart\n",
    "names = ['John Wall', 'Rest of Team']\n",
    "sizes = [43, 57]\n",
    "explode = (0.1, 0)\n",
    "\n",
    "fig4, ax1 = plt.subplots()\n",
    "ax1.pie(sizes, explode=explode, labels=names,\n",
    "        colors =['c','r'], autopct='%1.1f%%',\n",
    "        shadow=True, startangle=90)\n",
    "ax1.axis('equal')\n",
    "\n",
    "ax1.set(title='Assist Percentage when Wall plays')\n",
    "\n",
    "plt.show()"
   ]
  },
  {
   "cell_type": "markdown",
   "metadata": {},
   "source": [
    "In Wall's most recent absence (since Jan 27), the team's assists per game has increased to compensate for the lack of Wall's passing ability."
   ]
  },
  {
   "cell_type": "markdown",
   "metadata": {},
   "source": [
    "* So far, by comparing the record of games with Wall and all games without him for the whole season, we do not see much difference in the team's win %.\n",
    "* We observed that Free Throw Attempts per game have gone down the most in Wall's absence in the most recent stretch of games, but this drop does not seem to be negatively impacting the team's overall scoring ability.\n",
    "* Assists per game since January 27 is the highest it has been all season despite the team playing without their leading passer.  Based on what we have seen so far, this increase looks like a possible cause of the team's recent success.\n",
    "* However, we need to question if this increased passing is consistent, or if a few games with an extreme number of assists have distorted the average assists number."
   ]
  },
  {
   "cell_type": "markdown",
   "metadata": {},
   "source": [
    "## 8. Consistency"
   ]
  },
  {
   "cell_type": "markdown",
   "metadata": {},
   "source": [
    "Let's evaluate the standard deviation of assists to evaluate how consistently the team has performed in this regard. The higher the standard deviation is, the more the number of assists varies from game to game."
   ]
  },
  {
   "cell_type": "code",
   "execution_count": 37,
   "metadata": {},
   "outputs": [],
   "source": [
    "# More concise variable\n",
    "AST_recent = BasicStats_no_Wall_afterJan27['AST']"
   ]
  },
  {
   "cell_type": "code",
   "execution_count": 38,
   "metadata": {},
   "outputs": [
    {
     "data": {
      "text/plain": [
       "count    17.000000\n",
       "mean     28.705882\n",
       "std       4.870379\n",
       "min      21.000000\n",
       "25%      25.000000\n",
       "50%      29.000000\n",
       "75%      31.000000\n",
       "max      40.000000\n",
       "Name: AST, dtype: float64"
      ]
     },
     "execution_count": 38,
     "metadata": {},
     "output_type": "execute_result"
    }
   ],
   "source": [
    "# Summary statistics for AST in games since Jan 27\n",
    "AST_recent.describe()"
   ]
  },
  {
   "cell_type": "markdown",
   "metadata": {},
   "source": [
    "Here's what these numbers refer to:\n",
    "* std = standard deviation\n",
    "* 25 % = Q1 (25% of data is below this value)\n",
    "* 50 % = median (50% of data is below this value)\n",
    "* 75 % = Q3 (25% of data is above this value)"
   ]
  },
  {
   "cell_type": "code",
   "execution_count": 39,
   "metadata": {},
   "outputs": [],
   "source": [
    "# Assign these values to variables for further analysis\n",
    "mean_ = AST_recent.mean()\n",
    "min_ = AST_recent.min()\n",
    "Q1 = AST_recent.quantile(q=0.25)\n",
    "med = AST_recent.median()\n",
    "Q3 = AST_recent.quantile(q=0.75)\n",
    "max_ = AST_recent.max()"
   ]
  },
  {
   "cell_type": "markdown",
   "metadata": {},
   "source": [
    "Let's compare the mean and the median. Outliers can affect the mean, so median is a better measure of the midpoint when the data set is skewed."
   ]
  },
  {
   "cell_type": "code",
   "execution_count": 40,
   "metadata": {},
   "outputs": [
    {
     "data": {
      "text/plain": [
       "0.3"
      ]
     },
     "execution_count": 40,
     "metadata": {},
     "output_type": "execute_result"
    }
   ],
   "source": [
    "# Absolute value of the difference between the mean and median\n",
    "abs(round(mean_ - med, 1))"
   ]
  },
  {
   "cell_type": "markdown",
   "metadata": {},
   "source": [
    "The mean is pretty close to the median, so the AST/gm (since Jan 27) does not seem to be skewed by extreme values. Let's check for outliers anyway, just in case."
   ]
  },
  {
   "cell_type": "markdown",
   "metadata": {},
   "source": [
    "We'll use the Fence Rule to check for outliers. The idea is as follows:\n",
    "\n",
    "* The Interquartile Range (IQR) represents the middle 50% of the data\n",
    ">**IQR = Q3 - Q1**\n",
    "\n",
    "* Outliers are any values that fall either below the Lower Fence,\n",
    ">**LF = Q1 - (1.5 * IQR)**\n",
    "\n",
    "* Or, above the Upper Fence\n",
    ">**UF = Q3 + (1.5 * IQR)**"
   ]
  },
  {
   "cell_type": "code",
   "execution_count": 41,
   "metadata": {},
   "outputs": [],
   "source": [
    "# Fence calculations\n",
    "IQR = Q3 - Q1\n",
    "LF = Q1 - (1.5*IQR)\n",
    "UF = Q3 + (1.5 * IQR)"
   ]
  },
  {
   "cell_type": "markdown",
   "metadata": {},
   "source": [
    "Now that we have the LF and UF we can finally check for outliers."
   ]
  },
  {
   "cell_type": "code",
   "execution_count": 42,
   "metadata": {},
   "outputs": [
    {
     "data": {
      "text/plain": [
       "G\n",
       "49    False\n",
       "50    False\n",
       "51    False\n",
       "52    False\n",
       "53    False\n",
       "54    False\n",
       "55    False\n",
       "56    False\n",
       "57    False\n",
       "58    False\n",
       "59    False\n",
       "60    False\n",
       "61    False\n",
       "62    False\n",
       "63    False\n",
       "64    False\n",
       "65    False\n",
       "Name: AST, dtype: bool"
      ]
     },
     "execution_count": 42,
     "metadata": {},
     "output_type": "execute_result"
    }
   ],
   "source": [
    "# Check for outliers below Lower Fence\n",
    "AST_recent < LF"
   ]
  },
  {
   "cell_type": "markdown",
   "metadata": {},
   "source": [
    "No outliers below the Lower Fence."
   ]
  },
  {
   "cell_type": "code",
   "execution_count": 43,
   "metadata": {},
   "outputs": [
    {
     "data": {
      "text/plain": [
       "G\n",
       "49    False\n",
       "50    False\n",
       "51    False\n",
       "52    False\n",
       "53    False\n",
       "54    False\n",
       "55    False\n",
       "56    False\n",
       "57    False\n",
       "58    False\n",
       "59    False\n",
       "60    False\n",
       "61    False\n",
       "62    False\n",
       "63    False\n",
       "64    False\n",
       "65    False\n",
       "Name: AST, dtype: bool"
      ]
     },
     "execution_count": 43,
     "metadata": {},
     "output_type": "execute_result"
    }
   ],
   "source": [
    "# Check for outliers above Upper Fence\n",
    "AST_recent > UF"
   ]
  },
  {
   "cell_type": "markdown",
   "metadata": {},
   "source": [
    "No outliers above the Upper Fence either!"
   ]
  },
  {
   "cell_type": "markdown",
   "metadata": {},
   "source": [
    "## 9. Final Thoughts"
   ]
  },
  {
   "cell_type": "markdown",
   "metadata": {},
   "source": [
    "* We have seen that Win % alone does not explain much. \n",
    "* Instead of relying on the primary ball-handler to generate most of their offense, the assists are now more spread out. \n",
    "* To date, they have played 37 games with him this season which is 20 more than the amount in the most recent stretch (17 games since January 27). \n",
    "* It is inconclusive if the team is clearly better without John Wall this season.\n",
    "* It is more likely that in recent games, the team has adopted a strategy better suited to the skillset of the available players."
   ]
  }
 ],
 "metadata": {
  "kernelspec": {
   "display_name": "Python 3",
   "language": "python",
   "name": "python3"
  },
  "language_info": {
   "codemirror_mode": {
    "name": "ipython",
    "version": 3
   },
   "file_extension": ".py",
   "mimetype": "text/x-python",
   "name": "python",
   "nbconvert_exporter": "python",
   "pygments_lexer": "ipython3",
   "version": "3.6.1"
  }
 },
 "nbformat": 4,
 "nbformat_minor": 2
}
